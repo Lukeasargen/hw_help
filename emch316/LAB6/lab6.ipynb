{
 "cells": [
  {
   "cell_type": "code",
   "execution_count": 148,
   "source": [
    "import pandas as pd\n",
    "import numpy as np\n",
    "import matplotlib.pyplot as plt"
   ],
   "outputs": [],
   "metadata": {}
  },
  {
   "cell_type": "code",
   "execution_count": 149,
   "source": [
    "OD = 14.03  # mm\n",
    "L0 = 10.45  # mm\n",
    "A = 0.25*np.pi*OD**2  # mm^2\n",
    "f = 10  # Hz\n",
    "w = 2*np.pi*f  # rad/s\n",
    "disp_offset = -0.025\n",
    "A\n",
    "print(f\"{A=} {w=}\")"
   ],
   "outputs": [
    {
     "output_type": "stream",
     "name": "stdout",
     "text": [
      "A=154.59848134150076 w=62.83185307179586\n"
     ]
    }
   ],
   "metadata": {}
  },
  {
   "cell_type": "code",
   "execution_count": 150,
   "source": [
    "rdr_data = pd.read_csv(\"lab_RDR.csv\")\n",
    "rdr_data[\"Disp [mm]\"] = rdr_data[\"Disp [mm]\"]-disp_offset\n",
    "rdr_data[\"Strain [mm/mm]\"] = rdr_data[\"Disp [mm]\"]/L0\n",
    "rdr_data[\"Stress [MPa]\"] = rdr_data[\"Load [N]\"]/A\n",
    "rdr_data.columns"
   ],
   "outputs": [
    {
     "output_type": "execute_result",
     "data": {
      "text/plain": [
       "Index(['Points', 'Time [s]', 'Disp [mm]', 'Load [N]', 'Strain [mm/mm]',\n",
       "       'Stress [MPa]'],\n",
       "      dtype='object')"
      ]
     },
     "metadata": {},
     "execution_count": 150
    }
   ],
   "metadata": {}
  },
  {
   "cell_type": "code",
   "execution_count": 151,
   "source": [
    "std_data = pd.read_csv(\"lab_STD.csv\")\n",
    "std_data[\"Disp [mm]\"] = std_data[\"Disp [mm]\"]-disp_offset\n",
    "std_data[\"Strain [mm/mm]\"] = std_data[\"Disp [mm]\"]/L0\n",
    "std_data[\"Stress [MPa]\"] = std_data[\"Load [N]\"]/A\n",
    "std_data.columns"
   ],
   "outputs": [
    {
     "output_type": "execute_result",
     "data": {
      "text/plain": [
       "Index(['Points', 'Time [s]', 'Disp [mm]', 'Load [N]', 'Strain [mm/mm]',\n",
       "       'Stress [MPa]'],\n",
       "      dtype='object')"
      ]
     },
     "metadata": {},
     "execution_count": 151
    }
   ],
   "metadata": {}
  },
  {
   "cell_type": "code",
   "execution_count": 152,
   "source": [
    "std_data"
   ],
   "outputs": [
    {
     "output_type": "execute_result",
     "data": {
      "text/plain": [
       "      Points  Time [s]  Disp [mm]  Load [N]  Strain [mm/mm]  Stress [MPa]\n",
       "0          1     0.000   0.021934      0.03        0.002099      0.000194\n",
       "1          2     0.005   0.022207      0.04        0.002125      0.000259\n",
       "2          3     0.010  -0.003542      0.03       -0.000339      0.000194\n",
       "3          4     0.015  -0.122979     -0.09       -0.011768     -0.000582\n",
       "4          5     0.020  -0.318741     -0.28       -0.030502     -0.001811\n",
       "...      ...       ...        ...       ...             ...           ...\n",
       "1995      16     9.975  -1.464561     -1.56       -0.140149     -0.010091\n",
       "1996      17     9.980  -1.203103     -0.67       -0.115129     -0.004334\n",
       "1997      18     9.985  -0.901228     -0.07       -0.086242     -0.000453\n",
       "1998      19     9.990  -0.604538      0.27       -0.057851      0.001746\n",
       "1999      20     9.995  -0.345050      0.12       -0.033019      0.000776\n",
       "\n",
       "[2000 rows x 6 columns]"
      ],
      "text/html": [
       "<div>\n",
       "<style scoped>\n",
       "    .dataframe tbody tr th:only-of-type {\n",
       "        vertical-align: middle;\n",
       "    }\n",
       "\n",
       "    .dataframe tbody tr th {\n",
       "        vertical-align: top;\n",
       "    }\n",
       "\n",
       "    .dataframe thead th {\n",
       "        text-align: right;\n",
       "    }\n",
       "</style>\n",
       "<table border=\"1\" class=\"dataframe\">\n",
       "  <thead>\n",
       "    <tr style=\"text-align: right;\">\n",
       "      <th></th>\n",
       "      <th>Points</th>\n",
       "      <th>Time [s]</th>\n",
       "      <th>Disp [mm]</th>\n",
       "      <th>Load [N]</th>\n",
       "      <th>Strain [mm/mm]</th>\n",
       "      <th>Stress [MPa]</th>\n",
       "    </tr>\n",
       "  </thead>\n",
       "  <tbody>\n",
       "    <tr>\n",
       "      <th>0</th>\n",
       "      <td>1</td>\n",
       "      <td>0.000</td>\n",
       "      <td>0.021934</td>\n",
       "      <td>0.03</td>\n",
       "      <td>0.002099</td>\n",
       "      <td>0.000194</td>\n",
       "    </tr>\n",
       "    <tr>\n",
       "      <th>1</th>\n",
       "      <td>2</td>\n",
       "      <td>0.005</td>\n",
       "      <td>0.022207</td>\n",
       "      <td>0.04</td>\n",
       "      <td>0.002125</td>\n",
       "      <td>0.000259</td>\n",
       "    </tr>\n",
       "    <tr>\n",
       "      <th>2</th>\n",
       "      <td>3</td>\n",
       "      <td>0.010</td>\n",
       "      <td>-0.003542</td>\n",
       "      <td>0.03</td>\n",
       "      <td>-0.000339</td>\n",
       "      <td>0.000194</td>\n",
       "    </tr>\n",
       "    <tr>\n",
       "      <th>3</th>\n",
       "      <td>4</td>\n",
       "      <td>0.015</td>\n",
       "      <td>-0.122979</td>\n",
       "      <td>-0.09</td>\n",
       "      <td>-0.011768</td>\n",
       "      <td>-0.000582</td>\n",
       "    </tr>\n",
       "    <tr>\n",
       "      <th>4</th>\n",
       "      <td>5</td>\n",
       "      <td>0.020</td>\n",
       "      <td>-0.318741</td>\n",
       "      <td>-0.28</td>\n",
       "      <td>-0.030502</td>\n",
       "      <td>-0.001811</td>\n",
       "    </tr>\n",
       "    <tr>\n",
       "      <th>...</th>\n",
       "      <td>...</td>\n",
       "      <td>...</td>\n",
       "      <td>...</td>\n",
       "      <td>...</td>\n",
       "      <td>...</td>\n",
       "      <td>...</td>\n",
       "    </tr>\n",
       "    <tr>\n",
       "      <th>1995</th>\n",
       "      <td>16</td>\n",
       "      <td>9.975</td>\n",
       "      <td>-1.464561</td>\n",
       "      <td>-1.56</td>\n",
       "      <td>-0.140149</td>\n",
       "      <td>-0.010091</td>\n",
       "    </tr>\n",
       "    <tr>\n",
       "      <th>1996</th>\n",
       "      <td>17</td>\n",
       "      <td>9.980</td>\n",
       "      <td>-1.203103</td>\n",
       "      <td>-0.67</td>\n",
       "      <td>-0.115129</td>\n",
       "      <td>-0.004334</td>\n",
       "    </tr>\n",
       "    <tr>\n",
       "      <th>1997</th>\n",
       "      <td>18</td>\n",
       "      <td>9.985</td>\n",
       "      <td>-0.901228</td>\n",
       "      <td>-0.07</td>\n",
       "      <td>-0.086242</td>\n",
       "      <td>-0.000453</td>\n",
       "    </tr>\n",
       "    <tr>\n",
       "      <th>1998</th>\n",
       "      <td>19</td>\n",
       "      <td>9.990</td>\n",
       "      <td>-0.604538</td>\n",
       "      <td>0.27</td>\n",
       "      <td>-0.057851</td>\n",
       "      <td>0.001746</td>\n",
       "    </tr>\n",
       "    <tr>\n",
       "      <th>1999</th>\n",
       "      <td>20</td>\n",
       "      <td>9.995</td>\n",
       "      <td>-0.345050</td>\n",
       "      <td>0.12</td>\n",
       "      <td>-0.033019</td>\n",
       "      <td>0.000776</td>\n",
       "    </tr>\n",
       "  </tbody>\n",
       "</table>\n",
       "<p>2000 rows × 6 columns</p>\n",
       "</div>"
      ]
     },
     "metadata": {},
     "execution_count": 152
    }
   ],
   "metadata": {}
  },
  {
   "cell_type": "code",
   "execution_count": 153,
   "source": [
    "# Plot stress and strain curves\n",
    "dataset = rdr_data  # rdr_data, std_data\n",
    "x_label = \"Strain [mm/mm]\"\n",
    "y_label = \"Stress [MPa]\"\n",
    "\n",
    "fig = plt.figure(figsize=(8,8))\n",
    "ax = fig.subplots(nrows=1, ncols=1)\n",
    "ax.scatter(dataset[x_label], dataset[y_label])\n",
    "# ax.plot(dataset[x_label], dataset[y_label])\n",
    "ax.set_xlabel(x_label)\n",
    "ax.set_ylabel(y_label)\n",
    "ax.grid()\n"
   ],
   "outputs": [
    {
     "output_type": "display_data",
     "data": {
      "text/plain": [
       "<Figure size 576x576 with 1 Axes>"
      ],
      "image/png": "[encoded data removed]"
     },
     "metadata": {
      "needs_background": "light"
     }
    }
   ],
   "metadata": {}
  },
  {
   "cell_type": "code",
   "execution_count": 191,
   "source": [
    "dataset = rdr_data  # rdr_data, std_data\n",
    "graph_limit = 100\n",
    "x_label = \"Time [s]\"\n",
    "stress_label = \"Stress [MPa]\"\n",
    "strain_label = \"Strain [mm/mm]\"\n",
    "subset = dataset[:graph_limit]"
   ],
   "outputs": [],
   "metadata": {}
  },
  {
   "cell_type": "code",
   "execution_count": 192,
   "source": [
    "from scipy.signal import argrelextrema\n",
    "stress_ilocs_min = argrelextrema(subset[stress_label].values, np.less_equal, order=3)[0]\n",
    "stress_ilocs_max = argrelextrema(subset[stress_label].values, np.greater_equal, order=3)[0]\n",
    "strain_ilocs_min = argrelextrema(subset[strain_label].values, np.less_equal, order=3)[0]\n",
    "strain_ilocs_max = argrelextrema(subset[strain_label].values, np.greater_equal, order=3)[0]"
   ],
   "outputs": [],
   "metadata": {}
  },
  {
   "cell_type": "code",
   "execution_count": 193,
   "source": [
    "peak_stress = max(subset[stress_label].iloc[stress_ilocs_max]) - min(subset[stress_label].iloc[stress_ilocs_min])\n",
    "peak_strain = max(subset[strain_label].iloc[strain_ilocs_max]) - min(subset[strain_label].iloc[strain_ilocs_min])\n",
    "print(f\"{peak_stress=} {peak_strain=}\")"
   ],
   "outputs": [
    {
     "output_type": "stream",
     "name": "stdout",
     "text": [
      "peak_stress=0.030466017254049425 peak_strain=0.1680839234449761\n"
     ]
    }
   ],
   "metadata": {}
  },
  {
   "cell_type": "code",
   "execution_count": 194,
   "source": [
    "strain_ilocs_min"
   ],
   "outputs": [
    {
     "output_type": "execute_result",
     "data": {
      "text/plain": [
       "array([ 2, 22, 42, 62, 82, 99], dtype=int64)"
      ]
     },
     "metadata": {},
     "execution_count": 194
    }
   ],
   "metadata": {}
  },
  {
   "cell_type": "code",
   "execution_count": 195,
   "source": [
    "stress_ilocs_min"
   ],
   "outputs": [
    {
     "output_type": "execute_result",
     "data": {
      "text/plain": [
       "array([ 1, 11, 21, 41, 61, 81, 91, 99], dtype=int64)"
      ]
     },
     "metadata": {},
     "execution_count": 195
    }
   ],
   "metadata": {}
  },
  {
   "cell_type": "code",
   "execution_count": 196,
   "source": [
    "subset[x_label].iloc[22]-subset[x_label].iloc[21]"
   ],
   "outputs": [
    {
     "output_type": "execute_result",
     "data": {
      "text/plain": [
       "0.0050000000000000044"
      ]
     },
     "metadata": {},
     "execution_count": 196
    }
   ],
   "metadata": {}
  },
  {
   "cell_type": "code",
   "execution_count": 197,
   "source": [
    "import scipy.optimize\n",
    "def fit_sin(tt, yy):\n",
    "    '''Fit sin to the input time sequence, and return fitting parameters \"amp\", \"omega\", \"phase\", \"offset\", \"freq\", \"period\" and \"fitfunc\"'''\n",
    "    tt = np.array(tt)\n",
    "    yy = np.array(yy)\n",
    "    # ff = np.fft.fftfreq(len(tt), (tt[1]-tt[0]))   # assume uniform spacing\n",
    "    # Fyy = abs(np.fft.fft(yy))\n",
    "    # guess_freq = abs(ff[np.argmax(Fyy[1:])+1])   # excluding the zero frequency \"peak\", which is related to offset\n",
    "    guess_amp = np.std(yy) * 2.**0.5\n",
    "    guess_offset = np.mean(yy)\n",
    "    # guess = np.array([guess_amp, 2.*np.pi*guess_freq, 0., guess_offset])\n",
    "    # def sinfunc(t, A, w, p, c):  return A * np.sin(w*t + p) + c\n",
    "    # popt, pcov = scipy.optimize.curve_fit(sinfunc, tt, yy, p0=guess)\n",
    "    # A, w, p, c = popt  # amp, omega, phase, offset\n",
    "    # Use know frequency\n",
    "    guess = np.array([guess_amp, 0., guess_offset])\n",
    "    def sinfunc(t, A, p, c):  return A * np.sin(w*t + p) + c\n",
    "    popt, pcov = scipy.optimize.curve_fit(sinfunc, tt, yy, p0=guess)\n",
    "    A, p, c = popt  # amp, phase, offset\n",
    "    fitfunc = lambda t: A * np.sin(w*t + p) + c\n",
    "    return {\"amp\": A, \"omega\": w, \"phase\": p, \"offset\": c, \"fitfunc\": fitfunc}\n"
   ],
   "outputs": [],
   "metadata": {}
  },
  {
   "cell_type": "code",
   "execution_count": 198,
   "source": [
    "stress_fit = fit_sin(subset[x_label], subset[stress_label])\n",
    "print(f\"{stress_fit=}\")\n",
    "strain_fit = fit_sin(subset[x_label], subset[strain_label])\n",
    "print(f\"{strain_fit=}\")"
   ],
   "outputs": [
    {
     "output_type": "stream",
     "name": "stdout",
     "text": [
      "stress_fit={'amp': 0.014497904200966895, 'omega': 62.83185307179586, 'phase': -1.9349750976826776, 'offset': -0.0093901310504677, 'fitfunc': <function fit_sin.<locals>.<lambda> at 0x0000020324A5E0D0>}\n",
      "strain_fit={'amp': -0.08487319068960433, 'omega': 62.83185307179586, 'phase': 1.063111428765394, 'offset': -0.09331461052631979, 'fitfunc': <function fit_sin.<locals>.<lambda> at 0x0000020324A10DC0>}\n"
     ]
    }
   ],
   "metadata": {}
  },
  {
   "cell_type": "code",
   "execution_count": 199,
   "source": [
    "lag = stress_fit[\"phase\"]-strain_fit[\"phase\"]\n",
    "while lag>np.pi/2:\n",
    "    lag -= np.pi/2\n",
    "while lag<0:\n",
    "    lag += np.pi/2\n",
    "lag"
   ],
   "outputs": [
    {
     "output_type": "execute_result",
     "data": {
      "text/plain": [
       "0.1435061271417215"
      ]
     },
     "metadata": {},
     "execution_count": 199
    }
   ],
   "metadata": {}
  },
  {
   "cell_type": "code",
   "execution_count": 200,
   "source": [
    "fig = plt.figure(figsize=(12,9))\n",
    "ax_stress = fig.subplots(nrows=1, ncols=1)\n",
    "plt.title(\"Stress and Strain Curves\")\n",
    "\n",
    "ax_stress.plot(subset[x_label], subset[stress_label], color='r', marker='.', label=stress_label)\n",
    "ax_stress.set_ylabel(stress_label, color='r')\n",
    "ax_stress.set_xlabel(x_label)\n",
    "ax_stress.grid()\n",
    "ax_stress.scatter(subset[x_label].iloc[stress_ilocs_min], subset[stress_label].iloc[stress_ilocs_min], color='r', marker=\"^\")\n",
    "ax_stress.scatter(subset[x_label].iloc[stress_ilocs_max], subset[stress_label].iloc[stress_ilocs_max], color='g', marker=\"v\")\n",
    "\n",
    "ax_strain = ax_stress.twinx()\n",
    "ax_strain.plot(subset[x_label], subset[strain_label], color='b', label=strain_label)\n",
    "ax_strain.set_ylabel(strain_label, color='b')\n",
    "ax_strain.scatter(subset[x_label].iloc[strain_ilocs_min], subset[strain_label].iloc[strain_ilocs_min], color='r', marker=\"^\")\n",
    "ax_strain.scatter(subset[x_label].iloc[strain_ilocs_max], subset[strain_label].iloc[strain_ilocs_max], color='g', marker=\"v\")\n",
    "\n",
    "# fake_x_data = np.linspace(subset[x_label].min(), subset[x_label].max(), 2*graph_limit)\n",
    "# ax_stress.plot(fake_x_data, stress_fit[\"fitfunc\"](fake_x_data), color=\"r\", lw=1)\n",
    "# ax_strain.plot(fake_x_data, strain_fit[\"fitfunc\"](fake_x_data), color=\"b\", lw=1)\n"
   ],
   "outputs": [
    {
     "output_type": "execute_result",
     "data": {
      "text/plain": [
       "Text(0, 0.5, 'Strain [mm/mm]')"
      ]
     },
     "metadata": {},
     "execution_count": 200
    },
    {
     "output_type": "display_data",
     "data": {
      "text/plain": [
       "<Figure size 864x648 with 2 Axes>"
      ],
      "image/png": "[encoded data removed]"
     },
     "metadata": {
      "needs_background": "light"
     }
    }
   ],
   "metadata": {}
  },
  {
   "cell_type": "code",
   "execution_count": 201,
   "source": [
    "amp_stress = 0.01587  # MPa\n",
    "amp_strain = 0.08402  # mm/mm\n",
    "phase_angle = 0.3141"
   ],
   "outputs": [],
   "metadata": {}
  },
  {
   "cell_type": "code",
   "execution_count": 202,
   "source": [
    "E_storage = amp_stress/amp_strain * np.cos(phase_angle)\n",
    "E_loss = amp_stress/amp_strain * np.sin(phase_angle)\n",
    "E_complex = amp_stress/amp_strain\n",
    "print(f\"{E_storage=} {E_loss=} {E_complex=}\")"
   ],
   "outputs": [
    {
     "output_type": "stream",
     "name": "stdout",
     "text": [
      "E_storage=0.17964243668562824 E_loss=0.0583575956229064 E_complex=0.18888359914306116\n"
     ]
    }
   ],
   "metadata": {}
  },
  {
   "cell_type": "code",
   "execution_count": null,
   "source": [],
   "outputs": [],
   "metadata": {}
  }
 ],
 "metadata": {
  "orig_nbformat": 4,
  "language_info": {
   "name": "python",
   "version": "3.9.7",
   "mimetype": "text/x-python",
   "codemirror_mode": {
    "name": "ipython",
    "version": 3
   },
   "pygments_lexer": "ipython3",
   "nbconvert_exporter": "python",
   "file_extension": ".py"
  },
  "kernelspec": {
   "name": "python3",
   "display_name": "Python 3.9.7 64-bit"
  },
  "interpreter": {
   "hash": "07dae23624196233a5d3d67d6475683de5257ef60bd01fe7bcb7003dd1f77436"
  }
 },
 "nbformat": 4,
 "nbformat_minor": 2
}