{
 "cells": [
  {
   "cell_type": "code",
   "execution_count": 1,
   "source": [
    "import matplotlib.pyplot as plt\n",
    "import numpy as np\n",
    "import pandas as pd"
   ],
   "outputs": [],
   "metadata": {}
  },
  {
   "cell_type": "code",
   "execution_count": 6,
   "source": [
    "e1 = 99  # strain\n",
    "theta1 = 0  # deg\n",
    "e2 = 279\n",
    "theta2 = 45\n",
    "e3 = 306\n",
    "theta3 = 90"
   ],
   "outputs": [],
   "metadata": {}
  },
  {
   "cell_type": "code",
   "execution_count": 7,
   "source": [
    "# Coefficient Matrix\n",
    "# ex, ey, gxy\n",
    "A = np.array(\n",
    "    [\n",
    "        [np.cos(np.radians(theta1))**2, np.sin(np.radians(theta1))**2, np.cos(np.radians(theta1))*np.sin(np.radians(theta1))],\n",
    "        [np.cos(np.radians(theta2))**2, np.sin(np.radians(theta2))**2, np.cos(np.radians(theta2))*np.sin(np.radians(theta2))],\n",
    "        [np.cos(np.radians(theta3))**2, np.sin(np.radians(theta3))**2, np.cos(np.radians(theta3))*np.sin(np.radians(theta3))],\n",
    "    ]\n",
    ")\n",
    "# constant vector\n",
    "b = np.array(\n",
    "    [\n",
    "        e1,\n",
    "        e2,\n",
    "        e3,\n",
    "    ]\n",
    ")\n",
    "x = np.linalg.solve(A, b)\n",
    "x"
   ],
   "outputs": [
    {
     "output_type": "execute_result",
     "data": {
      "text/plain": [
       "array([ 99., 306., 153.])"
      ]
     },
     "metadata": {},
     "execution_count": 7
    }
   ],
   "metadata": {}
  },
  {
   "cell_type": "code",
   "execution_count": 8,
   "source": [
    "ex, ey, gxy = x"
   ],
   "outputs": [],
   "metadata": {}
  },
  {
   "cell_type": "code",
   "execution_count": 9,
   "source": [
    "print(f\"ex={ex}\\ney={ey}\\ngxy={gxy}\")"
   ],
   "outputs": [
    {
     "output_type": "stream",
     "name": "stdout",
     "text": [
      "ex=99.0\n",
      "ey=306.0\n",
      "gxy=152.99999999999991\n"
     ]
    }
   ],
   "metadata": {}
  },
  {
   "cell_type": "code",
   "execution_count": null,
   "source": [],
   "outputs": [],
   "metadata": {}
  }
 ],
 "metadata": {
  "orig_nbformat": 4,
  "language_info": {
   "name": "python",
   "version": "3.7.11",
   "mimetype": "text/x-python",
   "codemirror_mode": {
    "name": "ipython",
    "version": 3
   },
   "pygments_lexer": "ipython3",
   "nbconvert_exporter": "python",
   "file_extension": ".py"
  },
  "kernelspec": {
   "name": "python3",
   "display_name": "Python 3.7.11 64-bit ('base': conda)"
  },
  "interpreter": {
   "hash": "0ad9eb4ecacbaa579f7b082abbbfd83dee81111a3b07522b826fa818c22e9b2e"
  }
 },
 "nbformat": 4,
 "nbformat_minor": 2
}