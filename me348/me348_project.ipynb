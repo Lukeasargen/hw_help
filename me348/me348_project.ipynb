{
 "cells": [
  {
   "cell_type": "code",
   "execution_count": 2,
   "source": [
    "raw = \"\"\"Reading Period [us]\tRate [Hz]\tUnfiltered\tPeak Detection 1\tPeak Detection 2\n",
    "2000000\t0.5\t0\t0\t0\n",
    "1250000\t0.8\t0\t0\t0\n",
    "1000000\t1\t0\t0\t0\n",
    "500000\t2\t4\t10\t18\n",
    "250000\t4\t11\t11\t19\n",
    "125000\t8\t17\t15\t23\n",
    "62500\t16\t22\t24\t25\n",
    "31250\t32\t24\t24\t25\n",
    "15625\t64\t25\t25\t25\"\"\""
   ],
   "outputs": [],
   "metadata": {}
  },
  {
   "cell_type": "code",
   "execution_count": 3,
   "source": [
    "data = []\n",
    "for line in raw.split(\"\\n\"):\n",
    "    data.append(line.split(\"\t\"))\n",
    "data"
   ],
   "outputs": [
    {
     "output_type": "execute_result",
     "data": {
      "text/plain": [
       "[['Reading Period [us]',\n",
       "  'Rate [Hz]',\n",
       "  'Unfiltered',\n",
       "  'Peak Detection 1',\n",
       "  'Peak Detection 2'],\n",
       " ['2000000', '0.5', '0', '0', '0'],\n",
       " ['1250000', '0.8', '0', '0', '0'],\n",
       " ['1000000', '1', '0', '0', '0'],\n",
       " ['500000', '2', '4', '10', '18'],\n",
       " ['250000', '4', '11', '11', '19'],\n",
       " ['125000', '8', '17', '15', '23'],\n",
       " ['62500', '16', '22', '24', '25'],\n",
       " ['31250', '32', '24', '24', '25'],\n",
       " ['15625', '64', '25', '25', '25']]"
      ]
     },
     "metadata": {},
     "execution_count": 3
    }
   ],
   "metadata": {}
  },
  {
   "cell_type": "code",
   "execution_count": 4,
   "source": [
    "import pandas as pd\n",
    "import seaborn as sn\n",
    "import matplotlib.pyplot as plt\n",
    "import numpy as np"
   ],
   "outputs": [],
   "metadata": {}
  },
  {
   "cell_type": "code",
   "execution_count": 5,
   "source": [
    "df = pd.DataFrame(data[1:], columns=data[0])\n",
    "for col in df.columns:\n",
    "    df[col] = df[col].astype(float)\n",
    "df\n"
   ],
   "outputs": [
    {
     "output_type": "execute_result",
     "data": {
      "text/plain": [
       "   Reading Period [us]  Rate [Hz]  Unfiltered  Peak Detection 1  \\\n",
       "0            2000000.0        0.5         0.0               0.0   \n",
       "1            1250000.0        0.8         0.0               0.0   \n",
       "2            1000000.0        1.0         0.0               0.0   \n",
       "3             500000.0        2.0         4.0              10.0   \n",
       "4             250000.0        4.0        11.0              11.0   \n",
       "5             125000.0        8.0        17.0              15.0   \n",
       "6              62500.0       16.0        22.0              24.0   \n",
       "7              31250.0       32.0        24.0              24.0   \n",
       "8              15625.0       64.0        25.0              25.0   \n",
       "\n",
       "   Peak Detection 2  \n",
       "0               0.0  \n",
       "1               0.0  \n",
       "2               0.0  \n",
       "3              18.0  \n",
       "4              19.0  \n",
       "5              23.0  \n",
       "6              25.0  \n",
       "7              25.0  \n",
       "8              25.0  "
      ],
      "text/html": [
       "<div>\n",
       "<style scoped>\n",
       "    .dataframe tbody tr th:only-of-type {\n",
       "        vertical-align: middle;\n",
       "    }\n",
       "\n",
       "    .dataframe tbody tr th {\n",
       "        vertical-align: top;\n",
       "    }\n",
       "\n",
       "    .dataframe thead th {\n",
       "        text-align: right;\n",
       "    }\n",
       "</style>\n",
       "<table border=\"1\" class=\"dataframe\">\n",
       "  <thead>\n",
       "    <tr style=\"text-align: right;\">\n",
       "      <th></th>\n",
       "      <th>Reading Period [us]</th>\n",
       "      <th>Rate [Hz]</th>\n",
       "      <th>Unfiltered</th>\n",
       "      <th>Peak Detection 1</th>\n",
       "      <th>Peak Detection 2</th>\n",
       "    </tr>\n",
       "  </thead>\n",
       "  <tbody>\n",
       "    <tr>\n",
       "      <th>0</th>\n",
       "      <td>2000000.0</td>\n",
       "      <td>0.5</td>\n",
       "      <td>0.0</td>\n",
       "      <td>0.0</td>\n",
       "      <td>0.0</td>\n",
       "    </tr>\n",
       "    <tr>\n",
       "      <th>1</th>\n",
       "      <td>1250000.0</td>\n",
       "      <td>0.8</td>\n",
       "      <td>0.0</td>\n",
       "      <td>0.0</td>\n",
       "      <td>0.0</td>\n",
       "    </tr>\n",
       "    <tr>\n",
       "      <th>2</th>\n",
       "      <td>1000000.0</td>\n",
       "      <td>1.0</td>\n",
       "      <td>0.0</td>\n",
       "      <td>0.0</td>\n",
       "      <td>0.0</td>\n",
       "    </tr>\n",
       "    <tr>\n",
       "      <th>3</th>\n",
       "      <td>500000.0</td>\n",
       "      <td>2.0</td>\n",
       "      <td>4.0</td>\n",
       "      <td>10.0</td>\n",
       "      <td>18.0</td>\n",
       "    </tr>\n",
       "    <tr>\n",
       "      <th>4</th>\n",
       "      <td>250000.0</td>\n",
       "      <td>4.0</td>\n",
       "      <td>11.0</td>\n",
       "      <td>11.0</td>\n",
       "      <td>19.0</td>\n",
       "    </tr>\n",
       "    <tr>\n",
       "      <th>5</th>\n",
       "      <td>125000.0</td>\n",
       "      <td>8.0</td>\n",
       "      <td>17.0</td>\n",
       "      <td>15.0</td>\n",
       "      <td>23.0</td>\n",
       "    </tr>\n",
       "    <tr>\n",
       "      <th>6</th>\n",
       "      <td>62500.0</td>\n",
       "      <td>16.0</td>\n",
       "      <td>22.0</td>\n",
       "      <td>24.0</td>\n",
       "      <td>25.0</td>\n",
       "    </tr>\n",
       "    <tr>\n",
       "      <th>7</th>\n",
       "      <td>31250.0</td>\n",
       "      <td>32.0</td>\n",
       "      <td>24.0</td>\n",
       "      <td>24.0</td>\n",
       "      <td>25.0</td>\n",
       "    </tr>\n",
       "    <tr>\n",
       "      <th>8</th>\n",
       "      <td>15625.0</td>\n",
       "      <td>64.0</td>\n",
       "      <td>25.0</td>\n",
       "      <td>25.0</td>\n",
       "      <td>25.0</td>\n",
       "    </tr>\n",
       "  </tbody>\n",
       "</table>\n",
       "</div>"
      ]
     },
     "metadata": {},
     "execution_count": 5
    }
   ],
   "metadata": {}
  },
  {
   "cell_type": "code",
   "execution_count": 6,
   "source": [
    "cols = df.columns[[0,2,3,4]]\n",
    "heat_data = np.array(df[cols])\n"
   ],
   "outputs": [],
   "metadata": {}
  },
  {
   "cell_type": "code",
   "execution_count": 9,
   "source": [
    "cols = df.columns[[2,3,4]]\n",
    "heat_data = df[cols].transpose()\n",
    "scale = 1.5\n",
    "\n",
    "fig = plt.figure(figsize=(12,6))\n",
    "ax = fig.subplots(nrows=1, ncols=1)\n",
    "sn.set(font_scale=scale)  # Label size\n",
    "sn.heatmap(heat_data, ax=ax,\n",
    "annot=True, fmt=\".0f\", annot_kws={\"size\": scale*12},\n",
    "cmap='Blues',\n",
    "vmin=4,\n",
    "# vmax=1,\n",
    "# xticklabels=cols,\n",
    "xticklabels=df[df.columns[1]],\n",
    "# square=True,\n",
    "linewidths=0.5)\n",
    "ax.set_xlabel(df.columns[1])\n",
    "plt.savefig(\"temp.jpg\", bbox_inches=\"tight\")\n"
   ],
   "outputs": [
    {
     "output_type": "display_data",
     "data": {
      "text/plain": [
       "<Figure size 864x432 with 2 Axes>"
      ],
      "image/png": "[encoded data removed]"
     },
     "metadata": {}
    }
   ],
   "metadata": {}
  }
 ],
 "metadata": {
  "orig_nbformat": 4,
  "language_info": {
   "name": "python",
   "version": "3.9.7",
   "mimetype": "text/x-python",
   "codemirror_mode": {
    "name": "ipython",
    "version": 3
   },
   "pygments_lexer": "ipython3",
   "nbconvert_exporter": "python",
   "file_extension": ".py"
  },
  "kernelspec": {
   "name": "python3",
   "display_name": "Python 3.9.7 64-bit ('uas': conda)"
  },
  "interpreter": {
   "hash": "07dae23624196233a5d3d67d6475683de5257ef60bd01fe7bcb7003dd1f77436"
  }
 },
 "nbformat": 4,
 "nbformat_minor": 2
}