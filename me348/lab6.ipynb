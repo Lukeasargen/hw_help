{
 "cells": [
  {
   "cell_type": "code",
   "execution_count": 40,
   "source": [
    "import pandas as pd\n",
    "import numpy as np\n",
    "import matplotlib.pyplot as plt\n"
   ],
   "outputs": [],
   "metadata": {}
  },
  {
   "cell_type": "code",
   "execution_count": 41,
   "source": [
    "data_filename = \"LAB6 - Sheet2.csv\"\n",
    "data = pd.read_csv(data_filename, delimiter=\",\")"
   ],
   "outputs": [],
   "metadata": {}
  },
  {
   "cell_type": "code",
   "execution_count": 42,
   "source": [
    "for col in data.columns:\n",
    "    data[col] = data[col].astype(float)"
   ],
   "outputs": [],
   "metadata": {}
  },
  {
   "cell_type": "code",
   "execution_count": 43,
   "source": [
    "data.columns"
   ],
   "outputs": [
    {
     "output_type": "execute_result",
     "data": {
      "text/plain": [
       "Index(['Input Frequency (Hz)', 'Normalized Input Frequency',\n",
       "       'Input peak-to-peak (volts)', 'Output peak-to-peak (volts)',\n",
       "       'Time Shift (us)', 'Gain', 'Period (s)', 'Phase angle (deg)',\n",
       "       'Magnitude (dB)'],\n",
       "      dtype='object')"
      ]
     },
     "metadata": {},
     "execution_count": 43
    }
   ],
   "metadata": {}
  },
  {
   "cell_type": "code",
   "execution_count": 45,
   "source": [
    "cutoff_hz = 987\n",
    "data[\"Theorectical Gain\"] = 1/np.sqrt(1+(data[\"Input Frequency (Hz)\"]/cutoff_hz)**2)"
   ],
   "outputs": [],
   "metadata": {}
  },
  {
   "cell_type": "code",
   "execution_count": 46,
   "source": [
    "fig = plt.figure()\n",
    "ax = fig.add_subplot(1, 1, 1)\n",
    "\n",
    "ax.scatter(data[\"Normalized Input Frequency\"], data[\"Gain\"], label=\"Experimental\")\n",
    "ax.plot(data[\"Normalized Input Frequency\"], data[\"Theorectical Gain\"], label=\"Theorectical\")\n",
    "\n",
    "ax.set_xscale('log')\n",
    "ax.set_yscale('log')\n",
    "# ax.set_ylim(-30, 1)\n",
    "# ax.set_xlim(x_min, x_max)\n",
    "ax.set_ylabel(\"Gain\")\n",
    "ax.set_xlabel(\"Frequency Ratio\")\n",
    "ax.grid()\n",
    "ax.legend()\n"
   ],
   "outputs": [
    {
     "output_type": "execute_result",
     "data": {
      "text/plain": [
       "<matplotlib.legend.Legend at 0x2143debd048>"
      ]
     },
     "metadata": {},
     "execution_count": 46
    },
    {
     "output_type": "display_data",
     "data": {
      "text/plain": [
       "<Figure size 432x288 with 1 Axes>"
      ],
      "image/png": "[encoded data removed]"
     },
     "metadata": {
      "needs_background": "light"
     }
    }
   ],
   "metadata": {}
  }
 ],
 "metadata": {
  "orig_nbformat": 4,
  "language_info": {
   "name": "python",
   "version": "3.7.11",
   "mimetype": "text/x-python",
   "codemirror_mode": {
    "name": "ipython",
    "version": 3
   },
   "pygments_lexer": "ipython3",
   "nbconvert_exporter": "python",
   "file_extension": ".py"
  },
  "kernelspec": {
   "name": "python3",
   "display_name": "Python 3.7.11 64-bit ('base': conda)"
  },
  "interpreter": {
   "hash": "0ad9eb4ecacbaa579f7b082abbbfd83dee81111a3b07522b826fa818c22e9b2e"
  }
 },
 "nbformat": 4,
 "nbformat_minor": 2
}